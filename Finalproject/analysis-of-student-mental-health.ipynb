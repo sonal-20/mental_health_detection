{
 "cells": [
  {
   "cell_type": "markdown",
   "id": "79f009e9",
   "metadata": {
    "papermill": {
     "duration": 0.015099,
     "end_time": "2023-09-27T15:27:21.384668",
     "exception": false,
     "start_time": "2023-09-27T15:27:21.369569",
     "status": "completed"
    },
    "tags": []
   },
   "source": [
    "# Student Mental Health Analysis\n",
    "This notebook is more for fun than anything else. While the data collected could show interesting insights, there is not much information about the method of collection. It could have been a voluntary study, or a specific subset of students (such as those in a particular class). This limits any generalizations we could make about the data to an overall population and instead can only provide insights about this group of students in particular. "
   ]
  },
  {
   "cell_type": "markdown",
   "id": "f0941313",
   "metadata": {
    "papermill": {
     "duration": 0.014482,
     "end_time": "2023-09-27T15:27:21.415460",
     "exception": false,
     "start_time": "2023-09-27T15:27:21.400978",
     "status": "completed"
    },
    "tags": []
   },
   "source": [
    "# Imports"
   ]
  },
  {
   "cell_type": "code",
   "execution_count": 72,
   "id": "718b9951",
   "metadata": {
    "execution": {
     "iopub.execute_input": "2023-09-27T15:27:21.449390Z",
     "iopub.status.busy": "2023-09-27T15:27:21.448244Z",
     "iopub.status.idle": "2023-09-27T15:27:23.889158Z",
     "shell.execute_reply": "2023-09-27T15:27:23.887643Z"
    },
    "papermill": {
     "duration": 2.461354,
     "end_time": "2023-09-27T15:27:23.892261",
     "exception": false,
     "start_time": "2023-09-27T15:27:21.430907",
     "status": "completed"
    },
    "tags": []
   },
   "outputs": [],
   "source": [
    "import numpy as np\n",
    "import pandas as pd\n",
    "import matplotlib as mpl\n",
    "import matplotlib.pyplot as plt\n",
    "import random\n",
    "import seaborn as sns\n",
    "import statsmodels.stats as sm\n",
    "\n",
    "# from matplotlib_venn import venn3\n",
    "from scipy import stats"
   ]
  },
  {
   "cell_type": "markdown",
   "id": "f1c33a58",
   "metadata": {
    "papermill": {
     "duration": 0.013659,
     "end_time": "2023-09-27T15:27:23.920326",
     "exception": false,
     "start_time": "2023-09-27T15:27:23.906667",
     "status": "completed"
    },
    "tags": []
   },
   "source": [
    "# Preprocessing"
   ]
  },
  {
   "cell_type": "code",
   "execution_count": 43,
   "id": "e0638816",
   "metadata": {
    "execution": {
     "iopub.execute_input": "2023-09-27T15:27:23.950789Z",
     "iopub.status.busy": "2023-09-27T15:27:23.950061Z",
     "iopub.status.idle": "2023-09-27T15:27:24.023995Z",
     "shell.execute_reply": "2023-09-27T15:27:24.022444Z"
    },
    "papermill": {
     "duration": 0.092818,
     "end_time": "2023-09-27T15:27:24.027150",
     "exception": false,
     "start_time": "2023-09-27T15:27:23.934332",
     "status": "completed"
    },
    "tags": []
   },
   "outputs": [
    {
     "data": {
      "text/html": [
       "<div>\n",
       "<style scoped>\n",
       "    .dataframe tbody tr th:only-of-type {\n",
       "        vertical-align: middle;\n",
       "    }\n",
       "\n",
       "    .dataframe tbody tr th {\n",
       "        vertical-align: top;\n",
       "    }\n",
       "\n",
       "    .dataframe thead th {\n",
       "        text-align: right;\n",
       "    }\n",
       "</style>\n",
       "<table border=\"1\" class=\"dataframe\">\n",
       "  <thead>\n",
       "    <tr style=\"text-align: right;\">\n",
       "      <th></th>\n",
       "      <th>Timestamp</th>\n",
       "      <th>Choose your gender</th>\n",
       "      <th>Age</th>\n",
       "      <th>What is your course?</th>\n",
       "      <th>Your current year of Study</th>\n",
       "      <th>What is your CGPA?</th>\n",
       "      <th>Marital status</th>\n",
       "      <th>Do you have Depression?</th>\n",
       "      <th>Do you have Anxiety?</th>\n",
       "      <th>Do you have Panic attack?</th>\n",
       "      <th>Did you seek any specialist for a treatment?</th>\n",
       "    </tr>\n",
       "  </thead>\n",
       "  <tbody>\n",
       "    <tr>\n",
       "      <th>0</th>\n",
       "      <td>8-7-2020 12:02</td>\n",
       "      <td>Female</td>\n",
       "      <td>18.0</td>\n",
       "      <td>Engineering</td>\n",
       "      <td>year 1</td>\n",
       "      <td>3.00 - 3.49</td>\n",
       "      <td>No</td>\n",
       "      <td>Yes</td>\n",
       "      <td>No</td>\n",
       "      <td>Yes</td>\n",
       "      <td>No</td>\n",
       "    </tr>\n",
       "    <tr>\n",
       "      <th>1</th>\n",
       "      <td>8-7-2020 12:04</td>\n",
       "      <td>Male</td>\n",
       "      <td>21.0</td>\n",
       "      <td>Islamic education</td>\n",
       "      <td>year 2</td>\n",
       "      <td>3.00 - 3.49</td>\n",
       "      <td>No</td>\n",
       "      <td>No</td>\n",
       "      <td>Yes</td>\n",
       "      <td>No</td>\n",
       "      <td>No</td>\n",
       "    </tr>\n",
       "    <tr>\n",
       "      <th>2</th>\n",
       "      <td>8-7-2020 12:05</td>\n",
       "      <td>Male</td>\n",
       "      <td>19.0</td>\n",
       "      <td>BIT</td>\n",
       "      <td>Year 1</td>\n",
       "      <td>3.00 - 3.49</td>\n",
       "      <td>No</td>\n",
       "      <td>Yes</td>\n",
       "      <td>Yes</td>\n",
       "      <td>Yes</td>\n",
       "      <td>No</td>\n",
       "    </tr>\n",
       "    <tr>\n",
       "      <th>3</th>\n",
       "      <td>8-7-2020 12:06</td>\n",
       "      <td>Female</td>\n",
       "      <td>22.0</td>\n",
       "      <td>Laws</td>\n",
       "      <td>year 3</td>\n",
       "      <td>3.00 - 3.49</td>\n",
       "      <td>Yes</td>\n",
       "      <td>Yes</td>\n",
       "      <td>No</td>\n",
       "      <td>No</td>\n",
       "      <td>No</td>\n",
       "    </tr>\n",
       "    <tr>\n",
       "      <th>4</th>\n",
       "      <td>8-7-2020 12:13</td>\n",
       "      <td>Male</td>\n",
       "      <td>23.0</td>\n",
       "      <td>Mathemathics</td>\n",
       "      <td>year 4</td>\n",
       "      <td>3.00 - 3.49</td>\n",
       "      <td>No</td>\n",
       "      <td>No</td>\n",
       "      <td>No</td>\n",
       "      <td>No</td>\n",
       "      <td>No</td>\n",
       "    </tr>\n",
       "    <tr>\n",
       "      <th>...</th>\n",
       "      <td>...</td>\n",
       "      <td>...</td>\n",
       "      <td>...</td>\n",
       "      <td>...</td>\n",
       "      <td>...</td>\n",
       "      <td>...</td>\n",
       "      <td>...</td>\n",
       "      <td>...</td>\n",
       "      <td>...</td>\n",
       "      <td>...</td>\n",
       "      <td>...</td>\n",
       "    </tr>\n",
       "    <tr>\n",
       "      <th>96</th>\n",
       "      <td>13/07/2020 19:56:49</td>\n",
       "      <td>Female</td>\n",
       "      <td>21.0</td>\n",
       "      <td>BCS</td>\n",
       "      <td>year 1</td>\n",
       "      <td>3.50 - 4.00</td>\n",
       "      <td>No</td>\n",
       "      <td>No</td>\n",
       "      <td>Yes</td>\n",
       "      <td>No</td>\n",
       "      <td>No</td>\n",
       "    </tr>\n",
       "    <tr>\n",
       "      <th>97</th>\n",
       "      <td>13/07/2020 21:21:42</td>\n",
       "      <td>Male</td>\n",
       "      <td>18.0</td>\n",
       "      <td>Engineering</td>\n",
       "      <td>Year 2</td>\n",
       "      <td>3.00 - 3.49</td>\n",
       "      <td>No</td>\n",
       "      <td>Yes</td>\n",
       "      <td>Yes</td>\n",
       "      <td>No</td>\n",
       "      <td>No</td>\n",
       "    </tr>\n",
       "    <tr>\n",
       "      <th>98</th>\n",
       "      <td>13/07/2020 21:22:56</td>\n",
       "      <td>Female</td>\n",
       "      <td>19.0</td>\n",
       "      <td>Nursing</td>\n",
       "      <td>Year 3</td>\n",
       "      <td>3.50 - 4.00</td>\n",
       "      <td>Yes</td>\n",
       "      <td>Yes</td>\n",
       "      <td>No</td>\n",
       "      <td>Yes</td>\n",
       "      <td>No</td>\n",
       "    </tr>\n",
       "    <tr>\n",
       "      <th>99</th>\n",
       "      <td>13/07/2020 21:23:57</td>\n",
       "      <td>Female</td>\n",
       "      <td>23.0</td>\n",
       "      <td>Pendidikan Islam</td>\n",
       "      <td>year 4</td>\n",
       "      <td>3.50 - 4.00</td>\n",
       "      <td>No</td>\n",
       "      <td>No</td>\n",
       "      <td>No</td>\n",
       "      <td>No</td>\n",
       "      <td>No</td>\n",
       "    </tr>\n",
       "    <tr>\n",
       "      <th>100</th>\n",
       "      <td>18/07/2020 20:16:21</td>\n",
       "      <td>Male</td>\n",
       "      <td>20.0</td>\n",
       "      <td>Biomedical science</td>\n",
       "      <td>Year 2</td>\n",
       "      <td>3.00 - 3.49</td>\n",
       "      <td>No</td>\n",
       "      <td>No</td>\n",
       "      <td>No</td>\n",
       "      <td>No</td>\n",
       "      <td>No</td>\n",
       "    </tr>\n",
       "  </tbody>\n",
       "</table>\n",
       "<p>101 rows × 11 columns</p>\n",
       "</div>"
      ],
      "text/plain": [
       "               Timestamp Choose your gender   Age What is your course?  \\\n",
       "0         8-7-2020 12:02             Female  18.0          Engineering   \n",
       "1         8-7-2020 12:04               Male  21.0    Islamic education   \n",
       "2         8-7-2020 12:05               Male  19.0                  BIT   \n",
       "3         8-7-2020 12:06             Female  22.0                 Laws   \n",
       "4         8-7-2020 12:13               Male  23.0         Mathemathics   \n",
       "..                   ...                ...   ...                  ...   \n",
       "96   13/07/2020 19:56:49             Female  21.0                  BCS   \n",
       "97   13/07/2020 21:21:42               Male  18.0          Engineering   \n",
       "98   13/07/2020 21:22:56             Female  19.0              Nursing   \n",
       "99   13/07/2020 21:23:57             Female  23.0     Pendidikan Islam   \n",
       "100  18/07/2020 20:16:21               Male  20.0   Biomedical science   \n",
       "\n",
       "    Your current year of Study What is your CGPA? Marital status  \\\n",
       "0                       year 1        3.00 - 3.49             No   \n",
       "1                       year 2        3.00 - 3.49             No   \n",
       "2                       Year 1        3.00 - 3.49             No   \n",
       "3                       year 3        3.00 - 3.49            Yes   \n",
       "4                       year 4        3.00 - 3.49             No   \n",
       "..                         ...                ...            ...   \n",
       "96                      year 1        3.50 - 4.00             No   \n",
       "97                      Year 2        3.00 - 3.49             No   \n",
       "98                      Year 3        3.50 - 4.00            Yes   \n",
       "99                      year 4        3.50 - 4.00             No   \n",
       "100                     Year 2        3.00 - 3.49             No   \n",
       "\n",
       "    Do you have Depression? Do you have Anxiety? Do you have Panic attack?  \\\n",
       "0                       Yes                   No                       Yes   \n",
       "1                        No                  Yes                        No   \n",
       "2                       Yes                  Yes                       Yes   \n",
       "3                       Yes                   No                        No   \n",
       "4                        No                   No                        No   \n",
       "..                      ...                  ...                       ...   \n",
       "96                       No                  Yes                        No   \n",
       "97                      Yes                  Yes                        No   \n",
       "98                      Yes                   No                       Yes   \n",
       "99                       No                   No                        No   \n",
       "100                      No                   No                        No   \n",
       "\n",
       "    Did you seek any specialist for a treatment?  \n",
       "0                                             No  \n",
       "1                                             No  \n",
       "2                                             No  \n",
       "3                                             No  \n",
       "4                                             No  \n",
       "..                                           ...  \n",
       "96                                            No  \n",
       "97                                            No  \n",
       "98                                            No  \n",
       "99                                            No  \n",
       "100                                           No  \n",
       "\n",
       "[101 rows x 11 columns]"
      ]
     },
     "execution_count": 43,
     "metadata": {},
     "output_type": "execute_result"
    }
   ],
   "source": [
    "df = pd.read_csv(\"mental.csv\")\n",
    "df"
   ]
  },
  {
   "cell_type": "markdown",
   "id": "5d7eedd8",
   "metadata": {
    "papermill": {
     "duration": 0.015002,
     "end_time": "2023-09-27T15:27:24.057022",
     "exception": false,
     "start_time": "2023-09-27T15:27:24.042020",
     "status": "completed"
    },
    "tags": []
   },
   "source": [
    "To make analysis easier, I am going to change the column names to something that makes more sense to me."
   ]
  },
  {
   "cell_type": "code",
   "execution_count": 44,
   "id": "b4d16cde",
   "metadata": {
    "execution": {
     "iopub.execute_input": "2023-09-27T15:27:24.088359Z",
     "iopub.status.busy": "2023-09-27T15:27:24.087910Z",
     "iopub.status.idle": "2023-09-27T15:27:24.109302Z",
     "shell.execute_reply": "2023-09-27T15:27:24.108027Z"
    },
    "papermill": {
     "duration": 0.040076,
     "end_time": "2023-09-27T15:27:24.111808",
     "exception": false,
     "start_time": "2023-09-27T15:27:24.071732",
     "status": "completed"
    },
    "tags": []
   },
   "outputs": [
    {
     "data": {
      "text/html": [
       "<div>\n",
       "<style scoped>\n",
       "    .dataframe tbody tr th:only-of-type {\n",
       "        vertical-align: middle;\n",
       "    }\n",
       "\n",
       "    .dataframe tbody tr th {\n",
       "        vertical-align: top;\n",
       "    }\n",
       "\n",
       "    .dataframe thead th {\n",
       "        text-align: right;\n",
       "    }\n",
       "</style>\n",
       "<table border=\"1\" class=\"dataframe\">\n",
       "  <thead>\n",
       "    <tr style=\"text-align: right;\">\n",
       "      <th></th>\n",
       "      <th>Timestamp</th>\n",
       "      <th>Gender</th>\n",
       "      <th>Age</th>\n",
       "      <th>Major</th>\n",
       "      <th>Year</th>\n",
       "      <th>CGPA</th>\n",
       "      <th>Married</th>\n",
       "      <th>Depression</th>\n",
       "      <th>Anxiety</th>\n",
       "      <th>Panic Attacks</th>\n",
       "      <th>Treated</th>\n",
       "    </tr>\n",
       "  </thead>\n",
       "  <tbody>\n",
       "    <tr>\n",
       "      <th>0</th>\n",
       "      <td>8-7-2020 12:02</td>\n",
       "      <td>Female</td>\n",
       "      <td>18.0</td>\n",
       "      <td>Engineering</td>\n",
       "      <td>year 1</td>\n",
       "      <td>3.00 - 3.49</td>\n",
       "      <td>No</td>\n",
       "      <td>Yes</td>\n",
       "      <td>No</td>\n",
       "      <td>Yes</td>\n",
       "      <td>No</td>\n",
       "    </tr>\n",
       "    <tr>\n",
       "      <th>1</th>\n",
       "      <td>8-7-2020 12:04</td>\n",
       "      <td>Male</td>\n",
       "      <td>21.0</td>\n",
       "      <td>Islamic education</td>\n",
       "      <td>year 2</td>\n",
       "      <td>3.00 - 3.49</td>\n",
       "      <td>No</td>\n",
       "      <td>No</td>\n",
       "      <td>Yes</td>\n",
       "      <td>No</td>\n",
       "      <td>No</td>\n",
       "    </tr>\n",
       "    <tr>\n",
       "      <th>2</th>\n",
       "      <td>8-7-2020 12:05</td>\n",
       "      <td>Male</td>\n",
       "      <td>19.0</td>\n",
       "      <td>BIT</td>\n",
       "      <td>Year 1</td>\n",
       "      <td>3.00 - 3.49</td>\n",
       "      <td>No</td>\n",
       "      <td>Yes</td>\n",
       "      <td>Yes</td>\n",
       "      <td>Yes</td>\n",
       "      <td>No</td>\n",
       "    </tr>\n",
       "    <tr>\n",
       "      <th>3</th>\n",
       "      <td>8-7-2020 12:06</td>\n",
       "      <td>Female</td>\n",
       "      <td>22.0</td>\n",
       "      <td>Laws</td>\n",
       "      <td>year 3</td>\n",
       "      <td>3.00 - 3.49</td>\n",
       "      <td>Yes</td>\n",
       "      <td>Yes</td>\n",
       "      <td>No</td>\n",
       "      <td>No</td>\n",
       "      <td>No</td>\n",
       "    </tr>\n",
       "    <tr>\n",
       "      <th>4</th>\n",
       "      <td>8-7-2020 12:13</td>\n",
       "      <td>Male</td>\n",
       "      <td>23.0</td>\n",
       "      <td>Mathemathics</td>\n",
       "      <td>year 4</td>\n",
       "      <td>3.00 - 3.49</td>\n",
       "      <td>No</td>\n",
       "      <td>No</td>\n",
       "      <td>No</td>\n",
       "      <td>No</td>\n",
       "      <td>No</td>\n",
       "    </tr>\n",
       "  </tbody>\n",
       "</table>\n",
       "</div>"
      ],
      "text/plain": [
       "        Timestamp  Gender   Age              Major    Year         CGPA  \\\n",
       "0  8-7-2020 12:02  Female  18.0        Engineering  year 1  3.00 - 3.49   \n",
       "1  8-7-2020 12:04    Male  21.0  Islamic education  year 2  3.00 - 3.49   \n",
       "2  8-7-2020 12:05    Male  19.0                BIT  Year 1  3.00 - 3.49   \n",
       "3  8-7-2020 12:06  Female  22.0               Laws  year 3  3.00 - 3.49   \n",
       "4  8-7-2020 12:13    Male  23.0       Mathemathics  year 4  3.00 - 3.49   \n",
       "\n",
       "  Married Depression Anxiety Panic Attacks Treated  \n",
       "0      No        Yes      No           Yes      No  \n",
       "1      No         No     Yes            No      No  \n",
       "2      No        Yes     Yes           Yes      No  \n",
       "3     Yes        Yes      No            No      No  \n",
       "4      No         No      No            No      No  "
      ]
     },
     "execution_count": 44,
     "metadata": {},
     "output_type": "execute_result"
    }
   ],
   "source": [
    "newnames = [\"Timestamp\", \"Gender\", \"Age\", \"Major\", \"Year\", \"CGPA\", \"Married\", \"Depression\", \"Anxiety\", \"Panic Attacks\", \"Treated\"]\n",
    "df.columns = newnames\n",
    "df.head()"
   ]
  },
  {
   "cell_type": "code",
   "execution_count": 45,
   "id": "8a16b158",
   "metadata": {
    "execution": {
     "iopub.execute_input": "2023-09-27T15:27:24.144583Z",
     "iopub.status.busy": "2023-09-27T15:27:24.143867Z",
     "iopub.status.idle": "2023-09-27T15:27:24.150338Z",
     "shell.execute_reply": "2023-09-27T15:27:24.149213Z"
    },
    "papermill": {
     "duration": 0.025485,
     "end_time": "2023-09-27T15:27:24.152513",
     "exception": false,
     "start_time": "2023-09-27T15:27:24.127028",
     "status": "completed"
    },
    "tags": []
   },
   "outputs": [
    {
     "data": {
      "text/plain": [
       "101"
      ]
     },
     "execution_count": 45,
     "metadata": {},
     "output_type": "execute_result"
    }
   ],
   "source": [
    "len(df.index)"
   ]
  },
  {
   "cell_type": "markdown",
   "id": "15c31187",
   "metadata": {
    "papermill": {
     "duration": 0.014397,
     "end_time": "2023-09-27T15:27:24.181767",
     "exception": false,
     "start_time": "2023-09-27T15:27:24.167370",
     "status": "completed"
    },
    "tags": []
   },
   "source": [
    "There is a decent amount of responses in this dataset."
   ]
  },
  {
   "cell_type": "code",
   "execution_count": 46,
   "id": "c7cddb7c",
   "metadata": {
    "execution": {
     "iopub.execute_input": "2023-09-27T15:27:24.214107Z",
     "iopub.status.busy": "2023-09-27T15:27:24.213397Z",
     "iopub.status.idle": "2023-09-27T15:27:24.222477Z",
     "shell.execute_reply": "2023-09-27T15:27:24.221486Z"
    },
    "papermill": {
     "duration": 0.027928,
     "end_time": "2023-09-27T15:27:24.224575",
     "exception": false,
     "start_time": "2023-09-27T15:27:24.196647",
     "status": "completed"
    },
    "tags": []
   },
   "outputs": [
    {
     "data": {
      "text/plain": [
       "Timestamp        0\n",
       "Gender           0\n",
       "Age              1\n",
       "Major            0\n",
       "Year             0\n",
       "CGPA             0\n",
       "Married          0\n",
       "Depression       0\n",
       "Anxiety          0\n",
       "Panic Attacks    0\n",
       "Treated          0\n",
       "dtype: int64"
      ]
     },
     "execution_count": 46,
     "metadata": {},
     "output_type": "execute_result"
    }
   ],
   "source": [
    "df.isna().sum()"
   ]
  },
  {
   "cell_type": "markdown",
   "id": "a1c803cf",
   "metadata": {
    "papermill": {
     "duration": 0.014585,
     "end_time": "2023-09-27T15:27:24.253878",
     "exception": false,
     "start_time": "2023-09-27T15:27:24.239293",
     "status": "completed"
    },
    "tags": []
   },
   "source": [
    "If I don't use age in any of my analyses, one missing factor won't affect results."
   ]
  },
  {
   "cell_type": "markdown",
   "id": "2e18e407",
   "metadata": {
    "papermill": {
     "duration": 0.014947,
     "end_time": "2023-09-27T15:27:24.283659",
     "exception": false,
     "start_time": "2023-09-27T15:27:24.268712",
     "status": "completed"
    },
    "tags": []
   },
   "source": [
    "I decided to switch all the \"Yes\"/\"No\" responses to 1/0 respectively because it's easier to compute. I also took away everything but the number in the \"Year\" column because students put both \"Year\" and \"year\", making it more difficult to analyze."
   ]
  },
  {
   "cell_type": "code",
   "execution_count": 47,
   "id": "26a5b8bd",
   "metadata": {
    "execution": {
     "iopub.execute_input": "2023-09-27T15:27:24.385179Z",
     "iopub.status.busy": "2023-09-27T15:27:24.384449Z",
     "iopub.status.idle": "2023-09-27T15:27:24.415587Z",
     "shell.execute_reply": "2023-09-27T15:27:24.414631Z"
    },
    "papermill": {
     "duration": 0.050794,
     "end_time": "2023-09-27T15:27:24.417777",
     "exception": false,
     "start_time": "2023-09-27T15:27:24.366983",
     "status": "completed"
    },
    "tags": []
   },
   "outputs": [
    {
     "data": {
      "text/html": [
       "<div>\n",
       "<style scoped>\n",
       "    .dataframe tbody tr th:only-of-type {\n",
       "        vertical-align: middle;\n",
       "    }\n",
       "\n",
       "    .dataframe tbody tr th {\n",
       "        vertical-align: top;\n",
       "    }\n",
       "\n",
       "    .dataframe thead th {\n",
       "        text-align: right;\n",
       "    }\n",
       "</style>\n",
       "<table border=\"1\" class=\"dataframe\">\n",
       "  <thead>\n",
       "    <tr style=\"text-align: right;\">\n",
       "      <th></th>\n",
       "      <th>Timestamp</th>\n",
       "      <th>Gender</th>\n",
       "      <th>Age</th>\n",
       "      <th>Major</th>\n",
       "      <th>Year</th>\n",
       "      <th>CGPA</th>\n",
       "      <th>Married</th>\n",
       "      <th>Depression</th>\n",
       "      <th>Anxiety</th>\n",
       "      <th>Panic Attacks</th>\n",
       "      <th>Treated</th>\n",
       "    </tr>\n",
       "  </thead>\n",
       "  <tbody>\n",
       "    <tr>\n",
       "      <th>0</th>\n",
       "      <td>8-7-2020 12:02</td>\n",
       "      <td>Female</td>\n",
       "      <td>18.0</td>\n",
       "      <td>Engineering</td>\n",
       "      <td>1</td>\n",
       "      <td>3.00 - 3.49</td>\n",
       "      <td>0</td>\n",
       "      <td>1</td>\n",
       "      <td>0</td>\n",
       "      <td>1</td>\n",
       "      <td>0</td>\n",
       "    </tr>\n",
       "    <tr>\n",
       "      <th>1</th>\n",
       "      <td>8-7-2020 12:04</td>\n",
       "      <td>Male</td>\n",
       "      <td>21.0</td>\n",
       "      <td>Islamic education</td>\n",
       "      <td>2</td>\n",
       "      <td>3.00 - 3.49</td>\n",
       "      <td>0</td>\n",
       "      <td>0</td>\n",
       "      <td>1</td>\n",
       "      <td>0</td>\n",
       "      <td>0</td>\n",
       "    </tr>\n",
       "    <tr>\n",
       "      <th>2</th>\n",
       "      <td>8-7-2020 12:05</td>\n",
       "      <td>Male</td>\n",
       "      <td>19.0</td>\n",
       "      <td>BIT</td>\n",
       "      <td>1</td>\n",
       "      <td>3.00 - 3.49</td>\n",
       "      <td>0</td>\n",
       "      <td>1</td>\n",
       "      <td>1</td>\n",
       "      <td>1</td>\n",
       "      <td>0</td>\n",
       "    </tr>\n",
       "    <tr>\n",
       "      <th>3</th>\n",
       "      <td>8-7-2020 12:06</td>\n",
       "      <td>Female</td>\n",
       "      <td>22.0</td>\n",
       "      <td>Laws</td>\n",
       "      <td>3</td>\n",
       "      <td>3.00 - 3.49</td>\n",
       "      <td>1</td>\n",
       "      <td>1</td>\n",
       "      <td>0</td>\n",
       "      <td>0</td>\n",
       "      <td>0</td>\n",
       "    </tr>\n",
       "    <tr>\n",
       "      <th>4</th>\n",
       "      <td>8-7-2020 12:13</td>\n",
       "      <td>Male</td>\n",
       "      <td>23.0</td>\n",
       "      <td>Mathemathics</td>\n",
       "      <td>4</td>\n",
       "      <td>3.00 - 3.49</td>\n",
       "      <td>0</td>\n",
       "      <td>0</td>\n",
       "      <td>0</td>\n",
       "      <td>0</td>\n",
       "      <td>0</td>\n",
       "    </tr>\n",
       "  </tbody>\n",
       "</table>\n",
       "</div>"
      ],
      "text/plain": [
       "        Timestamp  Gender   Age              Major Year         CGPA  Married  \\\n",
       "0  8-7-2020 12:02  Female  18.0        Engineering    1  3.00 - 3.49        0   \n",
       "1  8-7-2020 12:04    Male  21.0  Islamic education    2  3.00 - 3.49        0   \n",
       "2  8-7-2020 12:05    Male  19.0                BIT    1  3.00 - 3.49        0   \n",
       "3  8-7-2020 12:06  Female  22.0               Laws    3  3.00 - 3.49        1   \n",
       "4  8-7-2020 12:13    Male  23.0       Mathemathics    4  3.00 - 3.49        0   \n",
       "\n",
       "   Depression  Anxiety  Panic Attacks  Treated  \n",
       "0           1        0              1        0  \n",
       "1           0        1              0        0  \n",
       "2           1        1              1        0  \n",
       "3           1        0              0        0  \n",
       "4           0        0              0        0  "
      ]
     },
     "execution_count": 47,
     "metadata": {},
     "output_type": "execute_result"
    }
   ],
   "source": [
    "def to_binary(d):\n",
    "    if d == \"Yes\"   : return 1\n",
    "    if d == \"No\"    : return 0\n",
    "    \n",
    "df[\"Married\"] = df[\"Married\"].apply(to_binary)\n",
    "df[\"Depression\"] = df[\"Depression\"].apply(to_binary)\n",
    "df[\"Anxiety\"] = df[\"Anxiety\"].apply(to_binary)\n",
    "df[\"Panic Attacks\"] = df[\"Panic Attacks\"].apply(to_binary)\n",
    "df[\"Treated\"] = df[\"Treated\"].apply(to_binary)\n",
    "\n",
    "df[\"Year\"] = df[\"Year\"].str[-1:]\n",
    "\n",
    "df.head()"
   ]
  },
  {
   "cell_type": "markdown",
   "id": "1241730b",
   "metadata": {
    "papermill": {
     "duration": 0.014874,
     "end_time": "2023-09-27T15:27:24.448145",
     "exception": false,
     "start_time": "2023-09-27T15:27:24.433271",
     "status": "completed"
    },
    "tags": []
   },
   "source": [
    "I would like to look at the effect of any condition on the student's performance. In order to do this more easily, I will create a column labeled \"Condition\", marked with a 1 for the presence of depression, anxiety, or panic attacks, and marked 0 otherwise."
   ]
  },
  {
   "cell_type": "code",
   "execution_count": 48,
   "id": "035405b3",
   "metadata": {
    "execution": {
     "iopub.execute_input": "2023-09-27T15:27:24.481592Z",
     "iopub.status.busy": "2023-09-27T15:27:24.480840Z",
     "iopub.status.idle": "2023-09-27T15:27:24.511996Z",
     "shell.execute_reply": "2023-09-27T15:27:24.510422Z"
    },
    "papermill": {
     "duration": 0.051225,
     "end_time": "2023-09-27T15:27:24.514758",
     "exception": false,
     "start_time": "2023-09-27T15:27:24.463533",
     "status": "completed"
    },
    "tags": []
   },
   "outputs": [
    {
     "data": {
      "text/html": [
       "<div>\n",
       "<style scoped>\n",
       "    .dataframe tbody tr th:only-of-type {\n",
       "        vertical-align: middle;\n",
       "    }\n",
       "\n",
       "    .dataframe tbody tr th {\n",
       "        vertical-align: top;\n",
       "    }\n",
       "\n",
       "    .dataframe thead th {\n",
       "        text-align: right;\n",
       "    }\n",
       "</style>\n",
       "<table border=\"1\" class=\"dataframe\">\n",
       "  <thead>\n",
       "    <tr style=\"text-align: right;\">\n",
       "      <th></th>\n",
       "      <th>Timestamp</th>\n",
       "      <th>Gender</th>\n",
       "      <th>Age</th>\n",
       "      <th>Major</th>\n",
       "      <th>Year</th>\n",
       "      <th>CGPA</th>\n",
       "      <th>Married</th>\n",
       "      <th>Depression</th>\n",
       "      <th>Anxiety</th>\n",
       "      <th>Panic Attacks</th>\n",
       "      <th>Treated</th>\n",
       "      <th>Condition</th>\n",
       "    </tr>\n",
       "  </thead>\n",
       "  <tbody>\n",
       "    <tr>\n",
       "      <th>0</th>\n",
       "      <td>8-7-2020 12:02</td>\n",
       "      <td>Female</td>\n",
       "      <td>18.0</td>\n",
       "      <td>Engineering</td>\n",
       "      <td>1</td>\n",
       "      <td>3.00 - 3.49</td>\n",
       "      <td>0</td>\n",
       "      <td>1</td>\n",
       "      <td>0</td>\n",
       "      <td>1</td>\n",
       "      <td>0</td>\n",
       "      <td>1</td>\n",
       "    </tr>\n",
       "    <tr>\n",
       "      <th>1</th>\n",
       "      <td>8-7-2020 12:04</td>\n",
       "      <td>Male</td>\n",
       "      <td>21.0</td>\n",
       "      <td>Islamic education</td>\n",
       "      <td>2</td>\n",
       "      <td>3.00 - 3.49</td>\n",
       "      <td>0</td>\n",
       "      <td>0</td>\n",
       "      <td>1</td>\n",
       "      <td>0</td>\n",
       "      <td>0</td>\n",
       "      <td>1</td>\n",
       "    </tr>\n",
       "    <tr>\n",
       "      <th>2</th>\n",
       "      <td>8-7-2020 12:05</td>\n",
       "      <td>Male</td>\n",
       "      <td>19.0</td>\n",
       "      <td>BIT</td>\n",
       "      <td>1</td>\n",
       "      <td>3.00 - 3.49</td>\n",
       "      <td>0</td>\n",
       "      <td>1</td>\n",
       "      <td>1</td>\n",
       "      <td>1</td>\n",
       "      <td>0</td>\n",
       "      <td>1</td>\n",
       "    </tr>\n",
       "    <tr>\n",
       "      <th>3</th>\n",
       "      <td>8-7-2020 12:06</td>\n",
       "      <td>Female</td>\n",
       "      <td>22.0</td>\n",
       "      <td>Laws</td>\n",
       "      <td>3</td>\n",
       "      <td>3.00 - 3.49</td>\n",
       "      <td>1</td>\n",
       "      <td>1</td>\n",
       "      <td>0</td>\n",
       "      <td>0</td>\n",
       "      <td>0</td>\n",
       "      <td>1</td>\n",
       "    </tr>\n",
       "    <tr>\n",
       "      <th>4</th>\n",
       "      <td>8-7-2020 12:13</td>\n",
       "      <td>Male</td>\n",
       "      <td>23.0</td>\n",
       "      <td>Mathemathics</td>\n",
       "      <td>4</td>\n",
       "      <td>3.00 - 3.49</td>\n",
       "      <td>0</td>\n",
       "      <td>0</td>\n",
       "      <td>0</td>\n",
       "      <td>0</td>\n",
       "      <td>0</td>\n",
       "      <td>0</td>\n",
       "    </tr>\n",
       "  </tbody>\n",
       "</table>\n",
       "</div>"
      ],
      "text/plain": [
       "        Timestamp  Gender   Age              Major Year         CGPA  Married  \\\n",
       "0  8-7-2020 12:02  Female  18.0        Engineering    1  3.00 - 3.49        0   \n",
       "1  8-7-2020 12:04    Male  21.0  Islamic education    2  3.00 - 3.49        0   \n",
       "2  8-7-2020 12:05    Male  19.0                BIT    1  3.00 - 3.49        0   \n",
       "3  8-7-2020 12:06  Female  22.0               Laws    3  3.00 - 3.49        1   \n",
       "4  8-7-2020 12:13    Male  23.0       Mathemathics    4  3.00 - 3.49        0   \n",
       "\n",
       "   Depression  Anxiety  Panic Attacks  Treated  Condition  \n",
       "0           1        0              1        0          1  \n",
       "1           0        1              0        0          1  \n",
       "2           1        1              1        0          1  \n",
       "3           1        0              0        0          1  \n",
       "4           0        0              0        0          0  "
      ]
     },
     "execution_count": 48,
     "metadata": {},
     "output_type": "execute_result"
    }
   ],
   "source": [
    "has_smtn = list()\n",
    "dep_col = df.columns.get_loc(\"Depression\")\n",
    "anx_col = df.columns.get_loc(\"Anxiety\")\n",
    "pa_col = df.columns.get_loc(\"Panic Attacks\")\n",
    "\n",
    "for row in range(len(df.index)):\n",
    "    if df.iloc[row, dep_col] == 1:\n",
    "        has_smtn.append(1)\n",
    "    elif df.iloc[row, anx_col] == 1:\n",
    "        has_smtn.append(1)\n",
    "    elif df.iloc[row, pa_col] == 1:\n",
    "        has_smtn.append(1)\n",
    "    else:\n",
    "        has_smtn.append(0)\n",
    "\n",
    "df[\"Condition\"] = has_smtn\n",
    "df.head()"
   ]
  },
  {
   "cell_type": "markdown",
   "id": "e5ef6bd7",
   "metadata": {
    "papermill": {
     "duration": 0.015381,
     "end_time": "2023-09-27T15:27:24.545935",
     "exception": false,
     "start_time": "2023-09-27T15:27:24.530554",
     "status": "completed"
    },
    "tags": []
   },
   "source": [
    "# Subsetting Datasets"
   ]
  },
  {
   "cell_type": "code",
   "execution_count": 49,
   "id": "7b374624",
   "metadata": {
    "execution": {
     "iopub.execute_input": "2023-09-27T15:27:24.580031Z",
     "iopub.status.busy": "2023-09-27T15:27:24.579011Z",
     "iopub.status.idle": "2023-09-27T15:27:24.593637Z",
     "shell.execute_reply": "2023-09-27T15:27:24.592291Z"
    },
    "papermill": {
     "duration": 0.034438,
     "end_time": "2023-09-27T15:27:24.596235",
     "exception": false,
     "start_time": "2023-09-27T15:27:24.561797",
     "status": "completed"
    },
    "tags": []
   },
   "outputs": [],
   "source": [
    "depressed = df[(df[\"Depression\"] == 1)]\n",
    "anxious = df[(df[\"Anxiety\"] == 1)]\n",
    "panicking = df[(df[\"Panic Attacks\"] == 1)]"
   ]
  },
  {
   "cell_type": "code",
   "execution_count": 50,
   "id": "09c2f454",
   "metadata": {
    "execution": {
     "iopub.execute_input": "2023-09-27T15:27:24.630294Z",
     "iopub.status.busy": "2023-09-27T15:27:24.629758Z",
     "iopub.status.idle": "2023-09-27T15:27:24.670803Z",
     "shell.execute_reply": "2023-09-27T15:27:24.669430Z"
    },
    "papermill": {
     "duration": 0.061536,
     "end_time": "2023-09-27T15:27:24.673970",
     "exception": false,
     "start_time": "2023-09-27T15:27:24.612434",
     "status": "completed"
    },
    "tags": []
   },
   "outputs": [
    {
     "data": {
      "text/html": [
       "<div>\n",
       "<style scoped>\n",
       "    .dataframe tbody tr th:only-of-type {\n",
       "        vertical-align: middle;\n",
       "    }\n",
       "\n",
       "    .dataframe tbody tr th {\n",
       "        vertical-align: top;\n",
       "    }\n",
       "\n",
       "    .dataframe thead th {\n",
       "        text-align: right;\n",
       "    }\n",
       "</style>\n",
       "<table border=\"1\" class=\"dataframe\">\n",
       "  <thead>\n",
       "    <tr style=\"text-align: right;\">\n",
       "      <th></th>\n",
       "      <th>Timestamp</th>\n",
       "      <th>Gender</th>\n",
       "      <th>Age</th>\n",
       "      <th>Major</th>\n",
       "      <th>Year</th>\n",
       "      <th>CGPA</th>\n",
       "      <th>Married</th>\n",
       "      <th>Depression</th>\n",
       "      <th>Anxiety</th>\n",
       "      <th>Panic Attacks</th>\n",
       "      <th>Treated</th>\n",
       "      <th>Condition</th>\n",
       "    </tr>\n",
       "  </thead>\n",
       "  <tbody>\n",
       "    <tr>\n",
       "      <th>0</th>\n",
       "      <td>8-7-2020 12:02</td>\n",
       "      <td>Female</td>\n",
       "      <td>18.0</td>\n",
       "      <td>Engineering</td>\n",
       "      <td>1</td>\n",
       "      <td>3.00 - 3.49</td>\n",
       "      <td>0</td>\n",
       "      <td>1</td>\n",
       "      <td>0</td>\n",
       "      <td>1</td>\n",
       "      <td>0</td>\n",
       "      <td>1</td>\n",
       "    </tr>\n",
       "    <tr>\n",
       "      <th>2</th>\n",
       "      <td>8-7-2020 12:05</td>\n",
       "      <td>Male</td>\n",
       "      <td>19.0</td>\n",
       "      <td>BIT</td>\n",
       "      <td>1</td>\n",
       "      <td>3.00 - 3.49</td>\n",
       "      <td>0</td>\n",
       "      <td>1</td>\n",
       "      <td>1</td>\n",
       "      <td>1</td>\n",
       "      <td>0</td>\n",
       "      <td>1</td>\n",
       "    </tr>\n",
       "    <tr>\n",
       "      <th>3</th>\n",
       "      <td>8-7-2020 12:06</td>\n",
       "      <td>Female</td>\n",
       "      <td>22.0</td>\n",
       "      <td>Laws</td>\n",
       "      <td>3</td>\n",
       "      <td>3.00 - 3.49</td>\n",
       "      <td>1</td>\n",
       "      <td>1</td>\n",
       "      <td>0</td>\n",
       "      <td>0</td>\n",
       "      <td>0</td>\n",
       "      <td>1</td>\n",
       "    </tr>\n",
       "    <tr>\n",
       "      <th>6</th>\n",
       "      <td>8-7-2020 12:32</td>\n",
       "      <td>Female</td>\n",
       "      <td>23.0</td>\n",
       "      <td>Pendidikan islam</td>\n",
       "      <td>2</td>\n",
       "      <td>3.50 - 4.00</td>\n",
       "      <td>1</td>\n",
       "      <td>1</td>\n",
       "      <td>0</td>\n",
       "      <td>1</td>\n",
       "      <td>0</td>\n",
       "      <td>1</td>\n",
       "    </tr>\n",
       "    <tr>\n",
       "      <th>11</th>\n",
       "      <td>8-7-2020 12:39</td>\n",
       "      <td>Female</td>\n",
       "      <td>24.0</td>\n",
       "      <td>Engineering</td>\n",
       "      <td>3</td>\n",
       "      <td>3.50 - 4.00</td>\n",
       "      <td>1</td>\n",
       "      <td>1</td>\n",
       "      <td>0</td>\n",
       "      <td>0</td>\n",
       "      <td>0</td>\n",
       "      <td>1</td>\n",
       "    </tr>\n",
       "    <tr>\n",
       "      <th>...</th>\n",
       "      <td>...</td>\n",
       "      <td>...</td>\n",
       "      <td>...</td>\n",
       "      <td>...</td>\n",
       "      <td>...</td>\n",
       "      <td>...</td>\n",
       "      <td>...</td>\n",
       "      <td>...</td>\n",
       "      <td>...</td>\n",
       "      <td>...</td>\n",
       "      <td>...</td>\n",
       "      <td>...</td>\n",
       "    </tr>\n",
       "    <tr>\n",
       "      <th>71</th>\n",
       "      <td>8-7-2020 21:21</td>\n",
       "      <td>Female</td>\n",
       "      <td>18.0</td>\n",
       "      <td>Laws</td>\n",
       "      <td>3</td>\n",
       "      <td>3.50 - 4.00</td>\n",
       "      <td>0</td>\n",
       "      <td>0</td>\n",
       "      <td>0</td>\n",
       "      <td>1</td>\n",
       "      <td>0</td>\n",
       "      <td>1</td>\n",
       "    </tr>\n",
       "    <tr>\n",
       "      <th>77</th>\n",
       "      <td>9-7-2020 18:24</td>\n",
       "      <td>Female</td>\n",
       "      <td>18.0</td>\n",
       "      <td>Human Sciences</td>\n",
       "      <td>2</td>\n",
       "      <td>3.00 - 3.49</td>\n",
       "      <td>0</td>\n",
       "      <td>0</td>\n",
       "      <td>0</td>\n",
       "      <td>1</td>\n",
       "      <td>0</td>\n",
       "      <td>1</td>\n",
       "    </tr>\n",
       "    <tr>\n",
       "      <th>89</th>\n",
       "      <td>13/07/2020 11:54:58</td>\n",
       "      <td>Male</td>\n",
       "      <td>24.0</td>\n",
       "      <td>Engineering</td>\n",
       "      <td>2</td>\n",
       "      <td>2.00 - 2.49</td>\n",
       "      <td>0</td>\n",
       "      <td>0</td>\n",
       "      <td>0</td>\n",
       "      <td>1</td>\n",
       "      <td>0</td>\n",
       "      <td>1</td>\n",
       "    </tr>\n",
       "    <tr>\n",
       "      <th>90</th>\n",
       "      <td>13/07/2020 13:57:11</td>\n",
       "      <td>Female</td>\n",
       "      <td>23.0</td>\n",
       "      <td>DIPLOMA TESL</td>\n",
       "      <td>3</td>\n",
       "      <td>3.50 - 4.00</td>\n",
       "      <td>0</td>\n",
       "      <td>0</td>\n",
       "      <td>0</td>\n",
       "      <td>1</td>\n",
       "      <td>0</td>\n",
       "      <td>1</td>\n",
       "    </tr>\n",
       "    <tr>\n",
       "      <th>94</th>\n",
       "      <td>13/07/2020 17:30:44</td>\n",
       "      <td>Female</td>\n",
       "      <td>24.0</td>\n",
       "      <td>Fiqh</td>\n",
       "      <td>3</td>\n",
       "      <td>0 - 1.99</td>\n",
       "      <td>0</td>\n",
       "      <td>0</td>\n",
       "      <td>0</td>\n",
       "      <td>1</td>\n",
       "      <td>0</td>\n",
       "      <td>1</td>\n",
       "    </tr>\n",
       "  </tbody>\n",
       "</table>\n",
       "<p>64 rows × 12 columns</p>\n",
       "</div>"
      ],
      "text/plain": [
       "              Timestamp  Gender   Age             Major Year         CGPA  \\\n",
       "0        8-7-2020 12:02  Female  18.0       Engineering    1  3.00 - 3.49   \n",
       "2        8-7-2020 12:05    Male  19.0               BIT    1  3.00 - 3.49   \n",
       "3        8-7-2020 12:06  Female  22.0              Laws    3  3.00 - 3.49   \n",
       "6        8-7-2020 12:32  Female  23.0  Pendidikan islam    2  3.50 - 4.00   \n",
       "11       8-7-2020 12:39  Female  24.0       Engineering    3  3.50 - 4.00   \n",
       "..                  ...     ...   ...               ...  ...          ...   \n",
       "71       8-7-2020 21:21  Female  18.0              Laws    3  3.50 - 4.00   \n",
       "77       9-7-2020 18:24  Female  18.0    Human Sciences    2  3.00 - 3.49   \n",
       "89  13/07/2020 11:54:58    Male  24.0       Engineering    2  2.00 - 2.49   \n",
       "90  13/07/2020 13:57:11  Female  23.0      DIPLOMA TESL    3  3.50 - 4.00   \n",
       "94  13/07/2020 17:30:44  Female  24.0              Fiqh    3     0 - 1.99   \n",
       "\n",
       "    Married  Depression  Anxiety  Panic Attacks  Treated  Condition  \n",
       "0         0           1        0              1        0          1  \n",
       "2         0           1        1              1        0          1  \n",
       "3         1           1        0              0        0          1  \n",
       "6         1           1        0              1        0          1  \n",
       "11        1           1        0              0        0          1  \n",
       "..      ...         ...      ...            ...      ...        ...  \n",
       "71        0           0        0              1        0          1  \n",
       "77        0           0        0              1        0          1  \n",
       "89        0           0        0              1        0          1  \n",
       "90        0           0        0              1        0          1  \n",
       "94        0           0        0              1        0          1  \n",
       "\n",
       "[64 rows x 12 columns]"
      ]
     },
     "execution_count": 50,
     "metadata": {},
     "output_type": "execute_result"
    }
   ],
   "source": [
    "has_condition = pd.concat([depressed, anxious, panicking]).drop_duplicates()\n",
    "has_condition"
   ]
  },
  {
   "cell_type": "code",
   "execution_count": 51,
   "id": "f4a2f70e",
   "metadata": {
    "execution": {
     "iopub.execute_input": "2023-09-27T15:27:24.711157Z",
     "iopub.status.busy": "2023-09-27T15:27:24.710714Z",
     "iopub.status.idle": "2023-09-27T15:27:24.734706Z",
     "shell.execute_reply": "2023-09-27T15:27:24.733233Z"
    },
    "papermill": {
     "duration": 0.046146,
     "end_time": "2023-09-27T15:27:24.737303",
     "exception": false,
     "start_time": "2023-09-27T15:27:24.691157",
     "status": "completed"
    },
    "tags": []
   },
   "outputs": [
    {
     "name": "stdout",
     "output_type": "stream",
     "text": [
      "6\n"
     ]
    },
    {
     "data": {
      "text/html": [
       "<div>\n",
       "<style scoped>\n",
       "    .dataframe tbody tr th:only-of-type {\n",
       "        vertical-align: middle;\n",
       "    }\n",
       "\n",
       "    .dataframe tbody tr th {\n",
       "        vertical-align: top;\n",
       "    }\n",
       "\n",
       "    .dataframe thead th {\n",
       "        text-align: right;\n",
       "    }\n",
       "</style>\n",
       "<table border=\"1\" class=\"dataframe\">\n",
       "  <thead>\n",
       "    <tr style=\"text-align: right;\">\n",
       "      <th></th>\n",
       "      <th>Timestamp</th>\n",
       "      <th>Gender</th>\n",
       "      <th>Age</th>\n",
       "      <th>Major</th>\n",
       "      <th>Year</th>\n",
       "      <th>CGPA</th>\n",
       "      <th>Married</th>\n",
       "      <th>Depression</th>\n",
       "      <th>Anxiety</th>\n",
       "      <th>Panic Attacks</th>\n",
       "      <th>Treated</th>\n",
       "      <th>Condition</th>\n",
       "    </tr>\n",
       "  </thead>\n",
       "  <tbody>\n",
       "    <tr>\n",
       "      <th>28</th>\n",
       "      <td>8-7-2020 13:58</td>\n",
       "      <td>Female</td>\n",
       "      <td>24.0</td>\n",
       "      <td>BIT</td>\n",
       "      <td>3</td>\n",
       "      <td>3.50 - 4.00</td>\n",
       "      <td>1</td>\n",
       "      <td>1</td>\n",
       "      <td>1</td>\n",
       "      <td>1</td>\n",
       "      <td>1</td>\n",
       "      <td>1</td>\n",
       "    </tr>\n",
       "    <tr>\n",
       "      <th>33</th>\n",
       "      <td>8-7-2020 14:31</td>\n",
       "      <td>Male</td>\n",
       "      <td>18.0</td>\n",
       "      <td>BCS</td>\n",
       "      <td>2</td>\n",
       "      <td>3.50 - 4.00</td>\n",
       "      <td>1</td>\n",
       "      <td>1</td>\n",
       "      <td>1</td>\n",
       "      <td>0</td>\n",
       "      <td>1</td>\n",
       "      <td>1</td>\n",
       "    </tr>\n",
       "    <tr>\n",
       "      <th>39</th>\n",
       "      <td>8-7-2020 14:56</td>\n",
       "      <td>Female</td>\n",
       "      <td>24.0</td>\n",
       "      <td>Engineering</td>\n",
       "      <td>2</td>\n",
       "      <td>2.50 - 2.99</td>\n",
       "      <td>1</td>\n",
       "      <td>1</td>\n",
       "      <td>0</td>\n",
       "      <td>1</td>\n",
       "      <td>1</td>\n",
       "      <td>1</td>\n",
       "    </tr>\n",
       "    <tr>\n",
       "      <th>50</th>\n",
       "      <td>8-7-2020 15:27</td>\n",
       "      <td>Female</td>\n",
       "      <td>23.0</td>\n",
       "      <td>ALA</td>\n",
       "      <td>1</td>\n",
       "      <td>2.50 - 2.99</td>\n",
       "      <td>1</td>\n",
       "      <td>1</td>\n",
       "      <td>0</td>\n",
       "      <td>1</td>\n",
       "      <td>1</td>\n",
       "      <td>1</td>\n",
       "    </tr>\n",
       "    <tr>\n",
       "      <th>54</th>\n",
       "      <td>8-7-2020 15:57</td>\n",
       "      <td>Female</td>\n",
       "      <td>19.0</td>\n",
       "      <td>BCS</td>\n",
       "      <td>1</td>\n",
       "      <td>3.50 - 4.00</td>\n",
       "      <td>0</td>\n",
       "      <td>1</td>\n",
       "      <td>0</td>\n",
       "      <td>1</td>\n",
       "      <td>1</td>\n",
       "      <td>1</td>\n",
       "    </tr>\n",
       "    <tr>\n",
       "      <th>85</th>\n",
       "      <td>13/07/2020 10:33:47</td>\n",
       "      <td>Female</td>\n",
       "      <td>18.0</td>\n",
       "      <td>psychology</td>\n",
       "      <td>1</td>\n",
       "      <td>3.50 - 4.00</td>\n",
       "      <td>0</td>\n",
       "      <td>1</td>\n",
       "      <td>1</td>\n",
       "      <td>0</td>\n",
       "      <td>1</td>\n",
       "      <td>1</td>\n",
       "    </tr>\n",
       "  </tbody>\n",
       "</table>\n",
       "</div>"
      ],
      "text/plain": [
       "              Timestamp  Gender   Age        Major Year         CGPA  Married  \\\n",
       "28       8-7-2020 13:58  Female  24.0          BIT    3  3.50 - 4.00        1   \n",
       "33       8-7-2020 14:31    Male  18.0          BCS    2  3.50 - 4.00        1   \n",
       "39       8-7-2020 14:56  Female  24.0  Engineering    2  2.50 - 2.99        1   \n",
       "50       8-7-2020 15:27  Female  23.0          ALA    1  2.50 - 2.99        1   \n",
       "54       8-7-2020 15:57  Female  19.0          BCS    1  3.50 - 4.00        0   \n",
       "85  13/07/2020 10:33:47  Female  18.0   psychology    1  3.50 - 4.00        0   \n",
       "\n",
       "    Depression  Anxiety  Panic Attacks  Treated  Condition  \n",
       "28           1        1              1        1          1  \n",
       "33           1        1              0        1          1  \n",
       "39           1        0              1        1          1  \n",
       "50           1        0              1        1          1  \n",
       "54           1        0              1        1          1  \n",
       "85           1        1              0        1          1  "
      ]
     },
     "execution_count": 51,
     "metadata": {},
     "output_type": "execute_result"
    }
   ],
   "source": [
    "treated_subset = has_condition.loc[df[\"Treated\"] == 1]\n",
    "print(len(treated_subset))\n",
    "treated_subset"
   ]
  },
  {
   "cell_type": "code",
   "execution_count": 52,
   "id": "78e2ee89",
   "metadata": {
    "execution": {
     "iopub.execute_input": "2023-09-27T15:27:24.773732Z",
     "iopub.status.busy": "2023-09-27T15:27:24.772488Z",
     "iopub.status.idle": "2023-09-27T15:27:24.796126Z",
     "shell.execute_reply": "2023-09-27T15:27:24.794537Z"
    },
    "papermill": {
     "duration": 0.044395,
     "end_time": "2023-09-27T15:27:24.798502",
     "exception": false,
     "start_time": "2023-09-27T15:27:24.754107",
     "status": "completed"
    },
    "tags": []
   },
   "outputs": [
    {
     "name": "stdout",
     "output_type": "stream",
     "text": [
      "58\n"
     ]
    },
    {
     "data": {
      "text/html": [
       "<div>\n",
       "<style scoped>\n",
       "    .dataframe tbody tr th:only-of-type {\n",
       "        vertical-align: middle;\n",
       "    }\n",
       "\n",
       "    .dataframe tbody tr th {\n",
       "        vertical-align: top;\n",
       "    }\n",
       "\n",
       "    .dataframe thead th {\n",
       "        text-align: right;\n",
       "    }\n",
       "</style>\n",
       "<table border=\"1\" class=\"dataframe\">\n",
       "  <thead>\n",
       "    <tr style=\"text-align: right;\">\n",
       "      <th></th>\n",
       "      <th>Timestamp</th>\n",
       "      <th>Gender</th>\n",
       "      <th>Age</th>\n",
       "      <th>Major</th>\n",
       "      <th>Year</th>\n",
       "      <th>CGPA</th>\n",
       "      <th>Married</th>\n",
       "      <th>Depression</th>\n",
       "      <th>Anxiety</th>\n",
       "      <th>Panic Attacks</th>\n",
       "      <th>Treated</th>\n",
       "      <th>Condition</th>\n",
       "    </tr>\n",
       "  </thead>\n",
       "  <tbody>\n",
       "    <tr>\n",
       "      <th>0</th>\n",
       "      <td>8-7-2020 12:02</td>\n",
       "      <td>Female</td>\n",
       "      <td>18.0</td>\n",
       "      <td>Engineering</td>\n",
       "      <td>1</td>\n",
       "      <td>3.00 - 3.49</td>\n",
       "      <td>0</td>\n",
       "      <td>1</td>\n",
       "      <td>0</td>\n",
       "      <td>1</td>\n",
       "      <td>0</td>\n",
       "      <td>1</td>\n",
       "    </tr>\n",
       "    <tr>\n",
       "      <th>2</th>\n",
       "      <td>8-7-2020 12:05</td>\n",
       "      <td>Male</td>\n",
       "      <td>19.0</td>\n",
       "      <td>BIT</td>\n",
       "      <td>1</td>\n",
       "      <td>3.00 - 3.49</td>\n",
       "      <td>0</td>\n",
       "      <td>1</td>\n",
       "      <td>1</td>\n",
       "      <td>1</td>\n",
       "      <td>0</td>\n",
       "      <td>1</td>\n",
       "    </tr>\n",
       "    <tr>\n",
       "      <th>3</th>\n",
       "      <td>8-7-2020 12:06</td>\n",
       "      <td>Female</td>\n",
       "      <td>22.0</td>\n",
       "      <td>Laws</td>\n",
       "      <td>3</td>\n",
       "      <td>3.00 - 3.49</td>\n",
       "      <td>1</td>\n",
       "      <td>1</td>\n",
       "      <td>0</td>\n",
       "      <td>0</td>\n",
       "      <td>0</td>\n",
       "      <td>1</td>\n",
       "    </tr>\n",
       "    <tr>\n",
       "      <th>6</th>\n",
       "      <td>8-7-2020 12:32</td>\n",
       "      <td>Female</td>\n",
       "      <td>23.0</td>\n",
       "      <td>Pendidikan islam</td>\n",
       "      <td>2</td>\n",
       "      <td>3.50 - 4.00</td>\n",
       "      <td>1</td>\n",
       "      <td>1</td>\n",
       "      <td>0</td>\n",
       "      <td>1</td>\n",
       "      <td>0</td>\n",
       "      <td>1</td>\n",
       "    </tr>\n",
       "    <tr>\n",
       "      <th>11</th>\n",
       "      <td>8-7-2020 12:39</td>\n",
       "      <td>Female</td>\n",
       "      <td>24.0</td>\n",
       "      <td>Engineering</td>\n",
       "      <td>3</td>\n",
       "      <td>3.50 - 4.00</td>\n",
       "      <td>1</td>\n",
       "      <td>1</td>\n",
       "      <td>0</td>\n",
       "      <td>0</td>\n",
       "      <td>0</td>\n",
       "      <td>1</td>\n",
       "    </tr>\n",
       "  </tbody>\n",
       "</table>\n",
       "</div>"
      ],
      "text/plain": [
       "         Timestamp  Gender   Age             Major Year         CGPA  Married  \\\n",
       "0   8-7-2020 12:02  Female  18.0       Engineering    1  3.00 - 3.49        0   \n",
       "2   8-7-2020 12:05    Male  19.0               BIT    1  3.00 - 3.49        0   \n",
       "3   8-7-2020 12:06  Female  22.0              Laws    3  3.00 - 3.49        1   \n",
       "6   8-7-2020 12:32  Female  23.0  Pendidikan islam    2  3.50 - 4.00        1   \n",
       "11  8-7-2020 12:39  Female  24.0       Engineering    3  3.50 - 4.00        1   \n",
       "\n",
       "    Depression  Anxiety  Panic Attacks  Treated  Condition  \n",
       "0            1        0              1        0          1  \n",
       "2            1        1              1        0          1  \n",
       "3            1        0              0        0          1  \n",
       "6            1        0              1        0          1  \n",
       "11           1        0              0        0          1  "
      ]
     },
     "execution_count": 52,
     "metadata": {},
     "output_type": "execute_result"
    }
   ],
   "source": [
    "untreated_subset = has_condition.loc[df[\"Treated\"] == 0]\n",
    "print(len(untreated_subset))\n",
    "untreated_subset.head()"
   ]
  },
  {
   "cell_type": "code",
   "execution_count": 53,
   "id": "1e4d3e5b",
   "metadata": {
    "execution": {
     "iopub.execute_input": "2023-09-27T15:27:24.835179Z",
     "iopub.status.busy": "2023-09-27T15:27:24.834707Z",
     "iopub.status.idle": "2023-09-27T15:27:24.854537Z",
     "shell.execute_reply": "2023-09-27T15:27:24.853173Z"
    },
    "papermill": {
     "duration": 0.041158,
     "end_time": "2023-09-27T15:27:24.857086",
     "exception": false,
     "start_time": "2023-09-27T15:27:24.815928",
     "status": "completed"
    },
    "tags": []
   },
   "outputs": [],
   "source": [
    "only_depressed = depressed[(depressed[\"Anxiety\"] == 0) & (depressed[\"Panic Attacks\"] == 0)]\n",
    "only_anxious = anxious[(anxious[\"Depression\"] == 0) & (anxious[\"Panic Attacks\"] == 0)]\n",
    "only_panicking = panicking[(panicking[\"Depression\"] == 0) & (panicking[\"Anxiety\"] == 0)]\n",
    "depressed_anxious = depressed[(depressed[\"Anxiety\"] == 1) & (depressed[\"Panic Attacks\"] == 0)]\n",
    "depressed_panicking = depressed[(depressed[\"Anxiety\"] == 0) & (depressed[\"Panic Attacks\"] == 1)]\n",
    "anxious_panicking = anxious[(anxious[\"Depression\"] == 0) & (anxious[\"Panic Attacks\"] == 1)]\n",
    "all_three = has_condition[(has_condition[\"Depression\"] == 1) & (has_condition[\"Anxiety\"] == 1) & (has_condition[\"Panic Attacks\"] == 1)]"
   ]
  },
  {
   "cell_type": "markdown",
   "id": "c1a1485c",
   "metadata": {
    "papermill": {
     "duration": 0.016687,
     "end_time": "2023-09-27T15:27:24.890836",
     "exception": false,
     "start_time": "2023-09-27T15:27:24.874149",
     "status": "completed"
    },
    "tags": []
   },
   "source": [
    "# Data Visualization"
   ]
  },
  {
   "cell_type": "code",
   "execution_count": 54,
   "id": "ccde3f27",
   "metadata": {
    "execution": {
     "iopub.execute_input": "2023-09-27T15:27:24.927532Z",
     "iopub.status.busy": "2023-09-27T15:27:24.927047Z",
     "iopub.status.idle": "2023-09-27T15:27:24.939529Z",
     "shell.execute_reply": "2023-09-27T15:27:24.937330Z"
    },
    "papermill": {
     "duration": 0.03407,
     "end_time": "2023-09-27T15:27:24.942081",
     "exception": false,
     "start_time": "2023-09-27T15:27:24.908011",
     "status": "completed"
    },
    "tags": []
   },
   "outputs": [
    {
     "name": "stdout",
     "output_type": "stream",
     "text": [
      "Depressed: 35\n",
      "Anxious: 34\n",
      "Having panic attacks: 33\n",
      "Being treated: 6\n",
      "Total people with a condition: 64\n",
      "Total people without: 37\n"
     ]
    }
   ],
   "source": [
    "num_depressed = (df[\"Depression\"] == 1).sum()\n",
    "num_anxious = (df[\"Anxiety\"] == 1).sum()\n",
    "num_pa = (df[\"Panic Attacks\"] == 1).sum()\n",
    "num_treated = (df[\"Treated\"] == 1).sum()\n",
    "num_w_condition = (df[\"Condition\"] == 1).sum()\n",
    "num_wo_condition = (df[\"Condition\"] == 0).sum()\n",
    "\n",
    "print(\"Depressed: {}\\nAnxious: {}\\nHaving panic attacks: {}\\nBeing treated: {}\\nTotal people with a condition: {}\\nTotal people without: {}\".format(num_depressed, num_anxious, num_pa, num_treated, num_w_condition, num_wo_condition))"
   ]
  },
  {
   "cell_type": "markdown",
   "id": "dda6c678",
   "metadata": {
    "papermill": {
     "duration": 0.016806,
     "end_time": "2023-09-27T15:27:24.975933",
     "exception": false,
     "start_time": "2023-09-27T15:27:24.959127",
     "status": "completed"
    },
    "tags": []
   },
   "source": [
    "Note that there is overlap between condtions."
   ]
  },
  {
   "cell_type": "code",
   "execution_count": 70,
   "id": "afe3c136",
   "metadata": {
    "execution": {
     "iopub.execute_input": "2023-09-27T15:27:25.014233Z",
     "iopub.status.busy": "2023-09-27T15:27:25.013811Z",
     "iopub.status.idle": "2023-09-27T15:27:25.252263Z",
     "shell.execute_reply": "2023-09-27T15:27:25.250470Z"
    },
    "papermill": {
     "duration": 0.263508,
     "end_time": "2023-09-27T15:27:25.256539",
     "exception": false,
     "start_time": "2023-09-27T15:27:24.993031",
     "status": "completed"
    },
    "tags": []
   },
   "outputs": [
    {
     "ename": "NameError",
     "evalue": "name 'venn3' is not defined",
     "output_type": "error",
     "traceback": [
      "\u001b[1;31m---------------------------------------------------------------------------\u001b[0m",
      "\u001b[1;31mNameError\u001b[0m                                 Traceback (most recent call last)",
      "Cell \u001b[1;32mIn[70], line 1\u001b[0m\n\u001b[1;32m----> 1\u001b[0m \u001b[43mvenn3\u001b[49m(subsets \u001b[38;5;241m=\u001b[39m [\u001b[38;5;28mset\u001b[39m(depressed\u001b[38;5;241m.\u001b[39mindex), \n\u001b[0;32m      2\u001b[0m                  \u001b[38;5;28mset\u001b[39m(anxious\u001b[38;5;241m.\u001b[39mindex), \n\u001b[0;32m      3\u001b[0m                  \u001b[38;5;28mset\u001b[39m(panicking\u001b[38;5;241m.\u001b[39mindex)], \n\u001b[0;32m      4\u001b[0m       set_labels \u001b[38;5;241m=\u001b[39m (\u001b[38;5;124m\"\u001b[39m\u001b[38;5;124mDepressed\u001b[39m\u001b[38;5;124m\"\u001b[39m, \u001b[38;5;124m\"\u001b[39m\u001b[38;5;124mAnxious\u001b[39m\u001b[38;5;124m\"\u001b[39m, \u001b[38;5;124m\"\u001b[39m\u001b[38;5;124mHaving Panic Attacks\u001b[39m\u001b[38;5;124m\"\u001b[39m),\n\u001b[0;32m      5\u001b[0m       set_colors \u001b[38;5;241m=\u001b[39m (\u001b[38;5;124m\"\u001b[39m\u001b[38;5;124morange\u001b[39m\u001b[38;5;124m\"\u001b[39m, \u001b[38;5;124m\"\u001b[39m\u001b[38;5;124mpurple\u001b[39m\u001b[38;5;124m\"\u001b[39m, \u001b[38;5;124m\"\u001b[39m\u001b[38;5;124mgreen\u001b[39m\u001b[38;5;124m\"\u001b[39m),\n\u001b[0;32m      6\u001b[0m       alpha \u001b[38;5;241m=\u001b[39m \u001b[38;5;241m0.9\u001b[39m)\n\u001b[0;32m      8\u001b[0m plt\u001b[38;5;241m.\u001b[39mtitle(\u001b[38;5;124m\"\u001b[39m\u001b[38;5;124mConditions\u001b[39m\u001b[38;5;124m\"\u001b[39m, fontsize \u001b[38;5;241m=\u001b[39m \u001b[38;5;241m16\u001b[39m)\n\u001b[0;32m      9\u001b[0m plt\u001b[38;5;241m.\u001b[39mshow()\n",
      "\u001b[1;31mNameError\u001b[0m: name 'venn3' is not defined"
     ]
    }
   ],
   "source": [
    "venn3(subsets = [set(depressed.index), \n",
    "                 set(anxious.index), \n",
    "                 set(panicking.index)], \n",
    "      set_labels = (\"Depressed\", \"Anxious\", \"Having Panic Attacks\"),\n",
    "      set_colors = (\"orange\", \"purple\", \"green\"),\n",
    "      alpha = 0.9)\n",
    "\n",
    "plt.title(\"Conditions\", fontsize = 16)\n",
    "plt.show()\n"
   ]
  },
  {
   "cell_type": "code",
   "execution_count": 56,
   "id": "a08d7151",
   "metadata": {
    "execution": {
     "iopub.execute_input": "2023-09-27T15:27:25.307701Z",
     "iopub.status.busy": "2023-09-27T15:27:25.306818Z",
     "iopub.status.idle": "2023-09-27T15:27:25.841976Z",
     "shell.execute_reply": "2023-09-27T15:27:25.839888Z"
    },
    "papermill": {
     "duration": 0.559224,
     "end_time": "2023-09-27T15:27:25.845931",
     "exception": false,
     "start_time": "2023-09-27T15:27:25.286707",
     "status": "completed"
    },
    "tags": []
   },
   "outputs": [
    {
     "data": {
      "image/png": "[encoded data removed]",
      "text/plain": [
       "<Figure size 1000x300 with 1 Axes>"
      ]
     },
     "metadata": {},
     "output_type": "display_data"
    }
   ],
   "source": [
    "labels = ['Depressed', 'Anxious', 'Having Panic \\nAttacks', \n",
    "                'Depressed and \\nAnxious', 'Depressed and Having \\nPanic Attacks', \n",
    "                'Anxious and Having \\nPanic Attacks', 'All Three']\n",
    "\n",
    "treated_counts = {\n",
    "    \"Treated\" : [(only_depressed[\"Treated\"] == 1).sum(), \n",
    "                 (only_anxious[\"Treated\"] == 1).sum(), \n",
    "                 (only_panicking[\"Treated\"] == 1).sum(),\n",
    "                 (depressed_anxious[\"Treated\"] == 1).sum(),\n",
    "                 (depressed_panicking[\"Treated\"] == 1).sum(),\n",
    "                 (anxious_panicking[\"Treated\"] == 1).sum(),\n",
    "                 (all_three[\"Treated\"] == 1).sum()],\n",
    "\n",
    "    \"Untreated\" : [(only_depressed[\"Treated\"] == 0).sum(), \n",
    "                 (only_anxious[\"Treated\"] == 0).sum(), \n",
    "                 (only_panicking[\"Treated\"] == 0).sum(),\n",
    "                 (depressed_anxious[\"Treated\"] == 0).sum(),\n",
    "                 (depressed_panicking[\"Treated\"] == 0).sum(),\n",
    "                 (anxious_panicking[\"Treated\"] == 0).sum(),\n",
    "                 (all_three[\"Treated\"] == 0).sum()]\n",
    "}\n",
    "\n",
    "fig, ax = plt.subplots(figsize = (10, 3))\n",
    "bottom = np.zeros(7)\n",
    "\n",
    "for treatment_type, treatment_count in treated_counts.items():\n",
    "    p = ax.bar(labels,\n",
    "                treatment_count,\n",
    "                width = 0.8,\n",
    "                label = treatment_type,\n",
    "                bottom = bottom)\n",
    "    bottom += treatment_count\n",
    "    ax.bar_label(container = p, \n",
    "                 label_type = 'center',\n",
    "                 fontsize = 10)\n",
    "\n",
    "ax.set_title(\"Treatment by Condition Type\", fontsize = 20)\n",
    "plt.xticks(fontsize = 8, ha = 'right', rotation = 20)\n",
    "ax.legend()\n",
    "plt.show()\n",
    "    "
   ]
  },
  {
   "cell_type": "code",
   "execution_count": 57,
   "id": "15897ddc",
   "metadata": {
    "execution": {
     "iopub.execute_input": "2023-09-27T15:27:25.891920Z",
     "iopub.status.busy": "2023-09-27T15:27:25.890331Z",
     "iopub.status.idle": "2023-09-27T15:27:26.266563Z",
     "shell.execute_reply": "2023-09-27T15:27:26.265066Z"
    },
    "papermill": {
     "duration": 0.403318,
     "end_time": "2023-09-27T15:27:26.269680",
     "exception": false,
     "start_time": "2023-09-27T15:27:25.866362",
     "status": "completed"
    },
    "tags": []
   },
   "outputs": [
    {
     "data": {
      "image/png": "[encoded data removed]",
      "text/plain": [
       "<Figure size 1000x300 with 1 Axes>"
      ]
     },
     "metadata": {},
     "output_type": "display_data"
    }
   ],
   "source": [
    "labels = ['Depressed', 'Anxious', 'Having Panic \\nAttacks', \n",
    "                'Depressed and \\nAnxious', 'Depressed and Having \\nPanic Attacks', \n",
    "                'Anxious and Having \\nPanic Attacks', 'All Three']\n",
    "\n",
    "gender_counts = {\n",
    "    \"Male\" : [(only_depressed[\"Gender\"] == \"Male\").sum(), \n",
    "                 (only_anxious[\"Gender\"] == \"Male\").sum(), \n",
    "                 (only_panicking[\"Gender\"] == \"Male\").sum(),\n",
    "                 (depressed_anxious[\"Gender\"] == \"Male\").sum(),\n",
    "                 (depressed_panicking[\"Gender\"] == \"Male\").sum(),\n",
    "                 (anxious_panicking[\"Gender\"] == \"Male\").sum(),\n",
    "                 (all_three[\"Gender\"] == \"Male\").sum()],\n",
    "\n",
    "    \"Female\" : [(only_depressed[\"Gender\"] == \"Female\").sum(), \n",
    "                 (only_anxious[\"Gender\"] == \"Female\").sum(), \n",
    "                 (only_panicking[\"Gender\"] == \"Female\").sum(),\n",
    "                 (depressed_anxious[\"Gender\"] == \"Female\").sum(),\n",
    "                 (depressed_panicking[\"Gender\"] == \"Female\").sum(),\n",
    "                 (anxious_panicking[\"Gender\"] == \"Female\").sum(),\n",
    "                 (all_three[\"Gender\"] == \"Female\").sum()]\n",
    "}\n",
    "\n",
    "fig, ax = plt.subplots(figsize = (10, 3))\n",
    "bottom = np.zeros(7)\n",
    "\n",
    "for gender, gender_count in gender_counts.items():\n",
    "    p = ax.bar(labels,\n",
    "                gender_count,\n",
    "                width = 0.8,\n",
    "                label = gender,\n",
    "                bottom = bottom)\n",
    "    bottom += gender_count\n",
    "    ax.bar_label(container = p, \n",
    "                 label_type = 'center',\n",
    "                 fontsize = 10)\n",
    "\n",
    "ax.set_title(\"Condition by Gender\", fontsize = 20)\n",
    "plt.xticks(fontsize = 8, ha = 'right', rotation = 20)\n",
    "ax.legend()\n",
    "plt.show()"
   ]
  },
  {
   "cell_type": "code",
   "execution_count": 58,
   "id": "cc8e72d5",
   "metadata": {
    "execution": {
     "iopub.execute_input": "2023-09-27T15:27:26.313258Z",
     "iopub.status.busy": "2023-09-27T15:27:26.312117Z",
     "iopub.status.idle": "2023-09-27T15:27:26.321866Z",
     "shell.execute_reply": "2023-09-27T15:27:26.320323Z"
    },
    "papermill": {
     "duration": 0.035442,
     "end_time": "2023-09-27T15:27:26.325256",
     "exception": false,
     "start_time": "2023-09-27T15:27:26.289814",
     "status": "completed"
    },
    "tags": []
   },
   "outputs": [
    {
     "name": "stdout",
     "output_type": "stream",
     "text": [
      "Females: 75\n",
      "Males: 26\n"
     ]
    }
   ],
   "source": [
    "print(\"Females: \" + str((df[\"Gender\"] == \"Female\").sum()) + \"\\nMales: \" + str((df[\"Gender\"] == \"Male\").sum()))"
   ]
  },
  {
   "cell_type": "markdown",
   "id": "2e11ed8a",
   "metadata": {
    "papermill": {
     "duration": 0.020084,
     "end_time": "2023-09-27T15:27:26.367003",
     "exception": false,
     "start_time": "2023-09-27T15:27:26.346919",
     "status": "completed"
    },
    "tags": []
   },
   "source": [
    "Because of the data imbalances between males and females, I am going to change the numbers to percentages to more accurately represent the data."
   ]
  },
  {
   "cell_type": "code",
   "execution_count": 59,
   "id": "2899d20b",
   "metadata": {
    "execution": {
     "iopub.execute_input": "2023-09-27T15:27:26.413875Z",
     "iopub.status.busy": "2023-09-27T15:27:26.413424Z",
     "iopub.status.idle": "2023-09-27T15:27:26.801022Z",
     "shell.execute_reply": "2023-09-27T15:27:26.799313Z"
    },
    "papermill": {
     "duration": 0.413093,
     "end_time": "2023-09-27T15:27:26.803774",
     "exception": false,
     "start_time": "2023-09-27T15:27:26.390681",
     "status": "completed"
    },
    "tags": []
   },
   "outputs": [
    {
     "data": {
      "image/png": "[encoded data removed]",
      "text/plain": [
       "<Figure size 1000x300 with 1 Axes>"
      ]
     },
     "metadata": {},
     "output_type": "display_data"
    }
   ],
   "source": [
    "labels = ['Depressed', 'Anxious', 'Having Panic \\nAttacks', \n",
    "                'Depressed and \\nAnxious', 'Depressed and Having \\nPanic Attacks', \n",
    "                'Anxious and Having \\nPanic Attacks', 'All Three']\n",
    "\n",
    "gender_counts = {\n",
    "    \"Male\" : [(only_depressed[\"Gender\"] == \"Male\").sum(), \n",
    "                 (only_anxious[\"Gender\"] == \"Male\").sum(), \n",
    "                 (only_panicking[\"Gender\"] == \"Male\").sum(),\n",
    "                 (depressed_anxious[\"Gender\"] == \"Male\").sum(),\n",
    "                 (depressed_panicking[\"Gender\"] == \"Male\").sum(),\n",
    "                 (anxious_panicking[\"Gender\"] == \"Male\").sum(),\n",
    "                 (all_three[\"Gender\"] == \"Male\").sum()],\n",
    "\n",
    "    \"Female\" : [(only_depressed[\"Gender\"] == \"Female\").sum(), \n",
    "                 (only_anxious[\"Gender\"] == \"Female\").sum(), \n",
    "                 (only_panicking[\"Gender\"] == \"Female\").sum(),\n",
    "                 (depressed_anxious[\"Gender\"] == \"Female\").sum(),\n",
    "                 (depressed_panicking[\"Gender\"] == \"Female\").sum(),\n",
    "                 (anxious_panicking[\"Gender\"] == \"Female\").sum(),\n",
    "                 (all_three[\"Gender\"] == \"Female\").sum()]\n",
    "}\n",
    "\n",
    "# The variables won't make as much sense now, but I'm changing individual counts to percentages.\n",
    "# For example, instead of depressed males being 1 and depressed females being 9, \n",
    "# it will be 3.8 % of males are depressed and 12% of females are depressed.\n",
    "# This makes it more fair to compare the two.\n",
    "\n",
    "gender_counts[\"Male\"] = gender_counts[\"Male\"] / ((df[\"Gender\"] == \"Male\").sum()) * 100\n",
    "gender_counts[\"Female\"] = gender_counts[\"Female\"] / ((df[\"Gender\"] == \"Female\").sum()) * 100\n",
    "\n",
    "fig, ax = plt.subplots(figsize = (10, 3))\n",
    "bottom = np.zeros(7)\n",
    "\n",
    "for gender, gender_count in gender_counts.items():\n",
    "    p = ax.bar(labels,\n",
    "                gender_count,\n",
    "                width = 0.8,\n",
    "                label = gender,\n",
    "                bottom = bottom)\n",
    "    bottom += gender_count\n",
    "    ax.bar_label(container = p, \n",
    "                 label_type = 'center',\n",
    "                 fontsize = 10)\n",
    "\n",
    "ax.set_title(\"Condition by Gender\", fontsize = 20)\n",
    "plt.xticks(fontsize = 8, ha = 'right', rotation = 20)\n",
    "ax.legend()\n",
    "plt.show()"
   ]
  },
  {
   "cell_type": "markdown",
   "id": "492fd3f5",
   "metadata": {
    "papermill": {
     "duration": 0.02041,
     "end_time": "2023-09-27T15:27:26.844583",
     "exception": false,
     "start_time": "2023-09-27T15:27:26.824173",
     "status": "completed"
    },
    "tags": []
   },
   "source": [
    "You can see that this bar graph shows that a very similar amount of males and females are anxious or having panic attacks, instead of females having these conditions more than males."
   ]
  },
  {
   "cell_type": "markdown",
   "id": "91cfa1f1",
   "metadata": {
    "papermill": {
     "duration": 0.020266,
     "end_time": "2023-09-27T15:27:26.885524",
     "exception": false,
     "start_time": "2023-09-27T15:27:26.865258",
     "status": "completed"
    },
    "tags": []
   },
   "source": [
    "## CGPA v. Year v. Condition"
   ]
  },
  {
   "cell_type": "code",
   "execution_count": 60,
   "id": "87e1ff6f",
   "metadata": {
    "execution": {
     "iopub.execute_input": "2023-09-27T15:27:26.929024Z",
     "iopub.status.busy": "2023-09-27T15:27:26.927643Z",
     "iopub.status.idle": "2023-09-27T15:27:27.247113Z",
     "shell.execute_reply": "2023-09-27T15:27:27.245372Z"
    },
    "papermill": {
     "duration": 0.345934,
     "end_time": "2023-09-27T15:27:27.251598",
     "exception": false,
     "start_time": "2023-09-27T15:27:26.905664",
     "status": "completed"
    },
    "tags": []
   },
   "outputs": [
    {
     "data": {
      "image/png": "[encoded data removed]",
      "text/plain": [
       "<Figure size 640x480 with 1 Axes>"
      ]
     },
     "metadata": {},
     "output_type": "display_data"
    }
   ],
   "source": [
    "import warnings\n",
    "warnings.filterwarnings('ignore')\n",
    "grid = sns.stripplot(data = df, x = \"Year\", y = \"CGPA\", hue = \"Condition\", dodge = True, jitter = 0.3, size = 3.5)\n",
    "plt.grid(axis = 'x')\n",
    "plt.show()"
   ]
  },
  {
   "cell_type": "markdown",
   "id": "453b6eeb",
   "metadata": {
    "papermill": {
     "duration": 0.021596,
     "end_time": "2023-09-27T15:27:27.303324",
     "exception": false,
     "start_time": "2023-09-27T15:27:27.281728",
     "status": "completed"
    },
    "tags": []
   },
   "source": [
    "Having CGPA as a categorial variable makes it difficult to perform tests and display data. This is because all the other variables (besides age) are categorical as well. "
   ]
  },
  {
   "cell_type": "markdown",
   "id": "1efadb43",
   "metadata": {
    "papermill": {
     "duration": 0.020751,
     "end_time": "2023-09-27T15:27:27.345110",
     "exception": false,
     "start_time": "2023-09-27T15:27:27.324359",
     "status": "completed"
    },
    "tags": []
   },
   "source": [
    "<br>\n",
    "<div class=\"alert alert-warning\">\n",
    "<b>WARNING</b> In general, the following method is a bad practice. Do NOT use this in formal analyses.\n",
    "</div>"
   ]
  },
  {
   "cell_type": "markdown",
   "id": "5d1b6f35",
   "metadata": {
    "papermill": {
     "duration": 0.022595,
     "end_time": "2023-09-27T15:27:27.389172",
     "exception": false,
     "start_time": "2023-09-27T15:27:27.366577",
     "status": "completed"
    },
    "tags": []
   },
   "source": [
    "Alright I'm gonna do something totally uncool and pick a random number between the two bounds as each person's GPA. I just wanna do analysis and this data is preventing me from doing fun stuff. This is data manipulation and no longer allows for truthful insights but in order for the data to be more meaningful I'm going to do it. DO NOT DO THIS FOR OFFICIAL USE."
   ]
  },
  {
   "cell_type": "code",
   "execution_count": 61,
   "id": "b3845e5a",
   "metadata": {
    "execution": {
     "iopub.execute_input": "2023-09-27T15:27:27.433805Z",
     "iopub.status.busy": "2023-09-27T15:27:27.433326Z",
     "iopub.status.idle": "2023-09-27T15:27:27.446179Z",
     "shell.execute_reply": "2023-09-27T15:27:27.444675Z"
    },
    "papermill": {
     "duration": 0.038668,
     "end_time": "2023-09-27T15:27:27.448931",
     "exception": false,
     "start_time": "2023-09-27T15:27:27.410263",
     "status": "completed"
    },
    "tags": []
   },
   "outputs": [],
   "source": [
    "new_gpas = list()\n",
    "cgpa = df.columns.get_loc(\"CGPA\")\n",
    "\n",
    "for row in range(len(df.index)):\n",
    "    bounds = df.iloc[row, cgpa]\n",
    "    bounds = bounds.split()\n",
    "    del bounds[1]\n",
    "    for index, b in enumerate(bounds):\n",
    "        b = float(b)\n",
    "        bounds[index] = b\n",
    "    new_gpas.append(float(f'{random.uniform(*bounds):1.2f}'))"
   ]
  },
  {
   "cell_type": "code",
   "execution_count": 62,
   "id": "c4482ffc",
   "metadata": {
    "execution": {
     "iopub.execute_input": "2023-09-27T15:27:27.492914Z",
     "iopub.status.busy": "2023-09-27T15:27:27.492389Z",
     "iopub.status.idle": "2023-09-27T15:27:27.498978Z",
     "shell.execute_reply": "2023-09-27T15:27:27.497671Z"
    },
    "papermill": {
     "duration": 0.031909,
     "end_time": "2023-09-27T15:27:27.501804",
     "exception": false,
     "start_time": "2023-09-27T15:27:27.469895",
     "status": "completed"
    },
    "tags": []
   },
   "outputs": [],
   "source": [
    "# THIS IS BAD PRACTICE!!! I WILL NOT SAY IT AGAIN, DON'T DO THIS IF YOU'RE TRYING TO USE THIS DATA IN AN ACCURATE WAY!\n",
    "df[\"New GPA\"] = new_gpas"
   ]
  },
  {
   "cell_type": "markdown",
   "id": "388702db",
   "metadata": {
    "papermill": {
     "duration": 0.023511,
     "end_time": "2023-09-27T15:27:27.546956",
     "exception": false,
     "start_time": "2023-09-27T15:27:27.523445",
     "status": "completed"
    },
    "tags": []
   },
   "source": [
    "This is the same graph as from above but with the modified data."
   ]
  },
  {
   "cell_type": "code",
   "execution_count": 63,
   "id": "68e292a2",
   "metadata": {
    "execution": {
     "iopub.execute_input": "2023-09-27T15:27:27.598794Z",
     "iopub.status.busy": "2023-09-27T15:27:27.597028Z",
     "iopub.status.idle": "2023-09-27T15:27:28.002677Z",
     "shell.execute_reply": "2023-09-27T15:27:28.001201Z"
    },
    "papermill": {
     "duration": 0.43522,
     "end_time": "2023-09-27T15:27:28.006498",
     "exception": false,
     "start_time": "2023-09-27T15:27:27.571278",
     "status": "completed"
    },
    "tags": []
   },
   "outputs": [
    {
     "data": {
      "image/png": "[encoded data removed]",
      "text/plain": [
       "<Figure size 640x480 with 1 Axes>"
      ]
     },
     "metadata": {},
     "output_type": "display_data"
    }
   ],
   "source": [
    "grid = sns.stripplot(data = df, x = \"Year\", y = \"New GPA\", hue = \"Condition\", dodge = True, jitter = 0.3, size = 3.5)\n",
    "plt.grid(axis = 'x')\n",
    "plt.show()"
   ]
  },
  {
   "cell_type": "markdown",
   "id": "f15c86b9",
   "metadata": {
    "papermill": {
     "duration": 0.022462,
     "end_time": "2023-09-27T15:27:28.052565",
     "exception": false,
     "start_time": "2023-09-27T15:27:28.030103",
     "status": "completed"
    },
    "tags": []
   },
   "source": [
    "It looks so much better yeye"
   ]
  },
  {
   "cell_type": "code",
   "execution_count": 64,
   "id": "3caf73d6",
   "metadata": {
    "execution": {
     "iopub.execute_input": "2023-09-27T15:27:28.099919Z",
     "iopub.status.busy": "2023-09-27T15:27:28.098768Z",
     "iopub.status.idle": "2023-09-27T15:27:28.568186Z",
     "shell.execute_reply": "2023-09-27T15:27:28.567239Z"
    },
    "papermill": {
     "duration": 0.496036,
     "end_time": "2023-09-27T15:27:28.570874",
     "exception": false,
     "start_time": "2023-09-27T15:27:28.074838",
     "status": "completed"
    },
    "tags": []
   },
   "outputs": [
    {
     "data": {
      "image/png": "[encoded data removed]",
      "text/plain": [
       "<Figure size 640x480 with 1 Axes>"
      ]
     },
     "metadata": {},
     "output_type": "display_data"
    }
   ],
   "source": [
    "fig, ax = plt.subplots()\n",
    "sns.boxplot(data = df, x = \"Year\", y = \"New GPA\", hue = \"Condition\")\n",
    "plt.show()"
   ]
  },
  {
   "cell_type": "markdown",
   "id": "b059746f",
   "metadata": {
    "papermill": {
     "duration": 0.023428,
     "end_time": "2023-09-27T15:27:28.618272",
     "exception": false,
     "start_time": "2023-09-27T15:27:28.594844",
     "status": "completed"
    },
    "tags": []
   },
   "source": [
    "## GPA v. Condition"
   ]
  },
  {
   "cell_type": "code",
   "execution_count": 65,
   "id": "ec4a4e77",
   "metadata": {
    "execution": {
     "iopub.execute_input": "2023-09-27T15:27:28.667028Z",
     "iopub.status.busy": "2023-09-27T15:27:28.666412Z",
     "iopub.status.idle": "2023-09-27T15:27:29.009490Z",
     "shell.execute_reply": "2023-09-27T15:27:29.007426Z"
    },
    "papermill": {
     "duration": 0.370874,
     "end_time": "2023-09-27T15:27:29.012612",
     "exception": false,
     "start_time": "2023-09-27T15:27:28.641738",
     "status": "completed"
    },
    "tags": []
   },
   "outputs": [
    {
     "data": {
      "image/png": "[encoded data removed]",
      "text/plain": [
       "<Figure size 640x480 with 1 Axes>"
      ]
     },
     "metadata": {},
     "output_type": "display_data"
    }
   ],
   "source": [
    "fig, ax = plt.subplots()\n",
    "sns.stripplot(data = df, x = \"Condition\", y = \"New GPA\", hue = \"Condition\", dodge = True, jitter = 0.5, size = 5)\n",
    "plt.show()"
   ]
  },
  {
   "cell_type": "code",
   "execution_count": 66,
   "id": "cf7a2a84",
   "metadata": {
    "execution": {
     "iopub.execute_input": "2023-09-27T15:27:29.059714Z",
     "iopub.status.busy": "2023-09-27T15:27:29.059331Z",
     "iopub.status.idle": "2023-09-27T15:27:29.362891Z",
     "shell.execute_reply": "2023-09-27T15:27:29.361570Z"
    },
    "papermill": {
     "duration": 0.330176,
     "end_time": "2023-09-27T15:27:29.365637",
     "exception": false,
     "start_time": "2023-09-27T15:27:29.035461",
     "status": "completed"
    },
    "tags": []
   },
   "outputs": [
    {
     "data": {
      "image/png": "[encoded data removed]",
      "text/plain": [
       "<Figure size 640x480 with 1 Axes>"
      ]
     },
     "metadata": {},
     "output_type": "display_data"
    }
   ],
   "source": [
    "fig, ax = plt.subplots()\n",
    "sns.boxplot(data = df, x = \"Condition\", y = \"New GPA\", hue = \"Condition\", )\n",
    "plt.show()"
   ]
  },
  {
   "cell_type": "markdown",
   "id": "a751d9ae",
   "metadata": {
    "papermill": {
     "duration": 0.027252,
     "end_time": "2023-09-27T15:27:29.416745",
     "exception": false,
     "start_time": "2023-09-27T15:27:29.389493",
     "status": "completed"
    },
    "tags": []
   },
   "source": [
    "Now I'll be testing to see if there's a difference in GPAs between people with/without a mental health condition (because it looks like there isn't). First, I have to see if I can make any assumptions about variance. "
   ]
  },
  {
   "cell_type": "markdown",
   "id": "8100aa83",
   "metadata": {
    "papermill": {
     "duration": 0.022673,
     "end_time": "2023-09-27T15:27:29.462207",
     "exception": false,
     "start_time": "2023-09-27T15:27:29.439534",
     "status": "completed"
    },
    "tags": []
   },
   "source": [
    "# F-Test for variances\n",
    "$H_0$: Variances are equal\n",
    "<br> $H_A$: Variances are not equal"
   ]
  },
  {
   "cell_type": "code",
   "execution_count": 67,
   "id": "d8604dab",
   "metadata": {
    "execution": {
     "iopub.execute_input": "2023-09-27T15:27:29.510488Z",
     "iopub.status.busy": "2023-09-27T15:27:29.509978Z",
     "iopub.status.idle": "2023-09-27T15:27:29.524386Z",
     "shell.execute_reply": "2023-09-27T15:27:29.523331Z"
    },
    "papermill": {
     "duration": 0.041983,
     "end_time": "2023-09-27T15:27:29.526923",
     "exception": false,
     "start_time": "2023-09-27T15:27:29.484940",
     "status": "completed"
    },
    "tags": []
   },
   "outputs": [
    {
     "name": "stdout",
     "output_type": "stream",
     "text": [
      "F-Statistic: 0.41834973337034304\n",
      "p-value: 0.0012070541322213998\n"
     ]
    }
   ],
   "source": [
    "cond = df[df[\"Condition\"] == 1][\"New GPA\"]\n",
    "no_cond = df[df[\"Condition\"] == 0][\"New GPA\"]\n",
    "\n",
    "cond_var = np.var(cond)\n",
    "no_cond_var = np.var(no_cond)\n",
    "f_val = cond_var / no_cond_var\n",
    "\n",
    "cond_df = len(cond) - 1             # DEGREES OF FREEDOM, NOT DATAFRAME!\n",
    "no_cond_df = len(no_cond) - 1       # DEGREES OF FREEDOM, NOT DATAFRAME!\n",
    "\n",
    "p_value = stats.f.cdf(f_val, cond_df, no_cond_df)\n",
    "\n",
    "print(\"F-Statistic: {}\\np-value: {}\".format(f_val, p_value))"
   ]
  },
  {
   "cell_type": "markdown",
   "id": "5dcdf6c6",
   "metadata": {
    "papermill": {
     "duration": 0.022189,
     "end_time": "2023-09-27T15:27:29.571727",
     "exception": false,
     "start_time": "2023-09-27T15:27:29.549538",
     "status": "completed"
    },
    "tags": []
   },
   "source": [
    "We reject the null that the two distributions have equal variances."
   ]
  },
  {
   "cell_type": "markdown",
   "id": "4c36fac4",
   "metadata": {
    "papermill": {
     "duration": 0.022786,
     "end_time": "2023-09-27T15:27:29.617587",
     "exception": false,
     "start_time": "2023-09-27T15:27:29.594801",
     "status": "completed"
    },
    "tags": []
   },
   "source": [
    "# Wilcoxon Rank-Sum Test \n",
    "Wilcoxon Rank-Sum is the nonparametric version of an independent t-test.\n",
    "<br> $H_0$: Two groups are drawn from the same distribution\n",
    "<br> $H_A$: Values in one sample are more likely to be larger or smaller than the values in the other sample"
   ]
  },
  {
   "cell_type": "code",
   "execution_count": 68,
   "id": "5e5e46aa",
   "metadata": {
    "execution": {
     "iopub.execute_input": "2023-09-27T15:27:29.666327Z",
     "iopub.status.busy": "2023-09-27T15:27:29.665430Z",
     "iopub.status.idle": "2023-09-27T15:27:29.677022Z",
     "shell.execute_reply": "2023-09-27T15:27:29.676006Z"
    },
    "papermill": {
     "duration": 0.039241,
     "end_time": "2023-09-27T15:27:29.679539",
     "exception": false,
     "start_time": "2023-09-27T15:27:29.640298",
     "status": "completed"
    },
    "tags": []
   },
   "outputs": [
    {
     "data": {
      "text/plain": [
       "RanksumsResult(statistic=0.42643718004116693, pvalue=0.669789314117712)"
      ]
     },
     "execution_count": 68,
     "metadata": {},
     "output_type": "execute_result"
    }
   ],
   "source": [
    "stats.ranksums(cond, no_cond, alternative = 'two-sided')"
   ]
  },
  {
   "cell_type": "markdown",
   "id": "337d4de0",
   "metadata": {
    "papermill": {
     "duration": 0.022458,
     "end_time": "2023-09-27T15:27:29.725026",
     "exception": false,
     "start_time": "2023-09-27T15:27:29.702568",
     "status": "completed"
    },
    "tags": []
   },
   "source": [
    "We fail to reject the null that the two groups have the same distribution.\n",
    "<br> Although Wilcoxon Rank-Sum isn't as strong as a t-test, it seems that there is no difference in the distribution of GPAs for people with a mental health condition versus people without."
   ]
  },
  {
   "cell_type": "code",
   "execution_count": null,
   "id": "be0d757b",
   "metadata": {},
   "outputs": [],
   "source": []
  },
  {
   "cell_type": "code",
   "execution_count": null,
   "id": "b53d8a62",
   "metadata": {},
   "outputs": [],
   "source": []
  },
  {
   "cell_type": "code",
   "execution_count": null,
   "id": "73949861",
   "metadata": {},
   "outputs": [],
   "source": []
  },
  {
   "cell_type": "code",
   "execution_count": null,
   "id": "212ef223",
   "metadata": {},
   "outputs": [],
   "source": []
  }
 ],
 "metadata": {
  "kernelspec": {
   "display_name": "Python 3 (ipykernel)",
   "language": "python",
   "name": "python3"
  },
  "language_info": {
   "codemirror_mode": {
    "name": "ipython",
    "version": 3
   },
   "file_extension": ".py",
   "mimetype": "text/x-python",
   "name": "python",
   "nbconvert_exporter": "python",
   "pygments_lexer": "ipython3",
   "version": "3.10.9"
  },
  "papermill": {
   "default_parameters": {},
   "duration": 13.711297,
   "end_time": "2023-09-27T15:27:30.673449",
   "environment_variables": {},
   "exception": null,
   "input_path": "__notebook__.ipynb",
   "output_path": "__notebook__.ipynb",
   "parameters": {},
   "start_time": "2023-09-27T15:27:16.962152",
   "version": "2.4.0"
  }
 },
 "nbformat": 4,
 "nbformat_minor": 5
}
